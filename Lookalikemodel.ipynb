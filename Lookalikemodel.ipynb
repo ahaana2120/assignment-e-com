{
 "cells": [
  {
   "cell_type": "code",
   "execution_count": 16,
   "id": "5aef712a-7590-4f13-ad97-cda64f798a6e",
   "metadata": {},
   "outputs": [
    {
     "name": "stdout",
     "output_type": "stream",
     "text": [
      "Lookalike Model completed. Results saved to Lookalike.csv.\n"
     ]
    }
   ],
   "source": [
    "import pandas as pd\n",
    "from sklearn.metrics.pairwise import cosine_similarity\n",
    "from sklearn.preprocessing import StandardScaler\n",
    "\n",
    "# Files\n",
    "customers_file = \"Customers.csv.csv\"\n",
    "products_file = \"Products.csv.csv\"\n",
    "transactions_file = \"Transactions.csv.csv\"\n",
    "\n",
    "# Read data\n",
    "customers_df = pd.read_csv(customers_file)\n",
    "products_df = pd.read_csv(products_file)\n",
    "transactions_df = pd.read_csv(transactions_file)\n",
    "\n",
    "# Convert date columns to datetime\n",
    "customers_df['SignupDate'] = pd.to_datetime(customers_df['SignupDate'])\n",
    "transactions_df['TransactionDate'] = pd.to_datetime(transactions_df['TransactionDate'])\n",
    "\n",
    "# Merge datasets\n",
    "merged_df = transactions_df.merge(customers_df, on='CustomerID').merge(products_df, on='ProductID')\n",
    "\n",
    "# Rename columns\n",
    "merged_df.rename(columns={'Price_x': 'TransactionPrice', 'Price_y': 'ProductPrice'}, inplace=True)\n",
    "\n",
    "# Feature Engineering\n",
    "customer_features = merged_df.groupby('CustomerID').agg({\n",
    "    'TotalValue': 'sum',  # Total spending\n",
    "    'Quantity': 'sum',  # Total quantity purchased\n",
    "    'ProductPrice': 'mean',  # Average price of products purchased\n",
    "    'Region': lambda x: x.mode()[0],  # Most frequent region\n",
    "    'Category': lambda x: ','.join(x.unique())  # Unique categories purchased\n",
    "}).reset_index()\n",
    "\n",
    "# One-hot encode categorical columns\n",
    "customer_features = pd.get_dummies(customer_features, columns=['Region'], drop_first=True)\n",
    "\n",
    "# Normalize numerical features\n",
    "scaler = StandardScaler()\n",
    "numerical_cols = ['TotalValue', 'Quantity', 'ProductPrice']\n",
    "customer_features[numerical_cols] = scaler.fit_transform(customer_features[numerical_cols])\n",
    "\n",
    "# Compute Similarity Matrix\n",
    "similarity_matrix = cosine_similarity(customer_features[numerical_cols])\n",
    "similarity_df = pd.DataFrame(similarity_matrix, index=customer_features['CustomerID'], columns=customer_features['CustomerID'])\n",
    "\n",
    "# Generate Lookalike Recommendations\n",
    "lookalike_map = {}\n",
    "for customer_id in customers_df['CustomerID'][:20]:  # First 20 customers (C0001 - C0020)\n",
    "    similar_customers = similarity_df[customer_id].sort_values(ascending=False)[1:4]  # Top 3 similar customers\n",
    "    lookalike_map[customer_id] = list(zip(similar_customers.index, similar_customers.values))\n",
    "\n",
    "# Create Lookalike.csv\n",
    "lookalike_data = []\n",
    "for customer_id, lookalikes in lookalike_map.items():\n",
    "    for similar_id, score in lookalikes:\n",
    "        lookalike_data.append({'CustomerID': customer_id, 'LookalikeID': similar_id, 'Score': score})\n",
    "\n",
    "lookalike_df = pd.DataFrame(lookalike_data)\n",
    "\n",
    "# Save to CSV in the current working directory\n",
    "lookalike_df.to_csv('Lookalike.csv', index=False)\n",
    "\n",
    "print(\"Lookalike Model completed. Results saved to Lookalike.csv.\")\n"
   ]
  },
  {
   "cell_type": "code",
   "execution_count": null,
   "id": "e873c1f3-f80c-4ae4-99cb-22a379f57860",
   "metadata": {},
   "outputs": [],
   "source": []
  },
  {
   "cell_type": "code",
   "execution_count": null,
   "id": "aacb868a-09a5-4af1-b9c8-f26757473948",
   "metadata": {},
   "outputs": [],
   "source": []
  }
 ],
 "metadata": {
  "kernelspec": {
   "display_name": "Python 3 (ipykernel)",
   "language": "python",
   "name": "python3"
  },
  "language_info": {
   "codemirror_mode": {
    "name": "ipython",
    "version": 3
   },
   "file_extension": ".py",
   "mimetype": "text/x-python",
   "name": "python",
   "nbconvert_exporter": "python",
   "pygments_lexer": "ipython3",
   "version": "3.13.1"
  }
 },
 "nbformat": 4,
 "nbformat_minor": 5
}
